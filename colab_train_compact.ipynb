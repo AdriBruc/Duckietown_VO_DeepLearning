{
  "cells": [
    {
      "cell_type": "markdown",
      "metadata": {
        "pycharm": {}
      },
      "source": [
        "# DeepVO"
      ]
    },
    {
      "cell_type": "markdown",
      "metadata": {
        "pycharm": {}
      },
      "source": [
        "Training and testing script for google collab"
      ]
    },
    {
      "cell_type": "markdown",
      "metadata": {},
      "source": [
        "Mount data folders "
      ]
    },
    {
      "cell_type": "code",
      "execution_count": null,
      "metadata": {},
      "outputs": [],
      "source": [
        "from google.colab import drive\n",
        "drive.mount('/content/drive', force_remount=False)"
      ]
    },
    {
      "cell_type": "markdown",
      "metadata": {},
      "source": [
        "Check GPU and Import modules"
      ]
    },
    {
      "cell_type": "code",
      "execution_count": null,
      "metadata": {},
      "outputs": [],
      "source": [
        "!pip uninstall -y Pillow\n",
        "# install the new one\n",
        "!pip install Pillow==5.3.0\n",
        "# import the new one\n",
        "import PIL\n",
        "print(PIL.PILLOW_VERSION)\n",
        "\n",
        "import tensorflow as tf\n",
        "tf.test.gpu_device_name()\n",
        "\n",
        "%matplotlib inline\n",
        "\n",
        "# http://pytorch.org/\n",
        "from os.path import exists\n",
        "from wheel.pep425tags import get_abbr_impl, get_impl_ver, get_abi_tag\n",
        "platform = '{}{}-{}'.format(get_abbr_impl(), get_impl_ver(), get_abi_tag())\n",
        "cuda_output = !ldconfig -p|grep cudart.so|sed -e 's/.*\\.\\([0-9]*\\)\\.\\([0-9]*\\)$/cu\\1\\2/'\n",
        "accelerator = cuda_output[0] if exists('/dev/nvidia0') else 'cpu'\n",
        "\n",
        "!pip install -q http://download.pytorch.org/whl/{accelerator}/torch-0.4.1-{platform}-linux_x86_64.whl torchvision\n",
        "import torch\n",
        "\n",
        "# load tqdm\n",
        "!pip install --force https://github.com/chengs/tqdm/archive/colab.zip"
      ]
    },
    {
      "cell_type": "markdown",
      "metadata": {
        "pycharm": {}
      },
      "source": [
        "Import modules"
      ]
    },
    {
      "cell_type": "code",
      "execution_count": null,
      "metadata": {
        "pycharm": {}
      },
      "outputs": [],
      "source": [
        "from src.dataset_split import train, val, test, test_dummy, train_dummy, val_dummy\n",
        "from src.main import hyperparamter_tuning, training_testing"
      ]
    },
    {
      "cell_type": "markdown",
      "metadata": {},
      "source": [
        "Hyperparameter Fine-Tuning"
      ]
    },
    {
      "cell_type": "code",
      "execution_count": null,
      "metadata": {
        "pycharm": {}
      },
      "outputs": [],
      "source": [
        "args ={\"data_dir\":(\"/Users/julia/Documents/UNI/Master/Montréal/AV/project/duckietown_visual_odometry/data/\",),\n",
        "    \"train_split\":(train_dummy,), \"val_split\":(val_dummy,), \"test_split\":(test_dummy,),\n",
        "    \"checkpoint_path\":('./checkpoint',), \"checkpoint\":(None,), \"bsize\":(2,), \"lr\":(0.001,),\n",
        "    \"weight_decay\":(1e-4,), \"trajectory_length\":(5,), \"dropout_p\":(0.85,),\n",
        "    \"resize\":(64,), \"K\":(100,), \"epochs\":(1,), \"patience\":(40,), \"camera-correction\":(True,)}\n",
        "\n",
        "hyperparamter_tuning(args)"
      ]
    },
    {
      "cell_type": "markdown",
      "metadata": {},
      "source": [
        "Running selected Configuration with Graphs"
      ]
    },
    {
      "cell_type": "code",
      "execution_count": null,
      "metadata": {
        "pycharm": {}
      },
      "outputs": [],
      "source": [
        "\n",
        "args ={\"data_dir\":\"/Users/julia/Documents/UNI/Master/Montréal/AV/project/duckietown_visual_odometry/data/\",\n",
        "    \"train_split\":train_dummy, \"val_split\":val_dummy, \"test_split\":test_dummy,\n",
        "    \"checkpoint_path\":'./checkpoint', \"checkpoint\":None, \"bsize\":2, \"lr\":0.001, \n",
        "    \"weight_decay\":1e-4, \"trajectory_length\":5, \"dropout_p\":0.85,\n",
        "    \"resize\":64, \"K\":100, \"epochs\":5, \"patience\":40, \"camera-correction\":True}\n",
        "\n",
        "training_testing(args)"
      ]
    }
  ],
  "metadata": {
    "interpreter": {
      "hash": "b72d1fecd0a73df2a1a18b52675273f1b6ca647bfa839be2128fda33214ab210"
    },
    "kernelspec": {
      "display_name": "Python 3.8.12 64-bit ('ssl': conda)",
      "language": "python",
      "name": "python3"
    },
    "language_info": {
      "codemirror_mode": {
        "name": "ipython",
        "version": 3
      },
      "file_extension": ".py",
      "mimetype": "text/x-python",
      "name": "python",
      "nbconvert_exporter": "python",
      "pygments_lexer": "ipython3",
      "version": "3.8.12"
    },
    "orig_nbformat": 4
  },
  "nbformat": 4,
  "nbformat_minor": 2
}
