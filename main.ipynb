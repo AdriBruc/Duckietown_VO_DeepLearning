

import tensorflow as tf
tf.test.gpu_device_name()

%matplotlib inline

!pip uninstall -y Pillow
# install the new one
!pip install Pillow==5.3.0
# import the new one
import PIL
print(PIL.PILLOW_VERSION)
