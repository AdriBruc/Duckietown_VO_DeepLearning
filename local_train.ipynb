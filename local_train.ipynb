{
  "cells": [
    {
      "cell_type": "markdown",
      "metadata": {
        "pycharm": {}
      },
      "source": [
        "# DeepVO"
      ]
    },
    {
      "cell_type": "markdown",
      "metadata": {
        "pycharm": {}
      },
      "source": [
        "Training and testing script for local evaluation"
      ]
    },
    {
      "cell_type": "markdown",
      "metadata": {},
      "source": [
        "Log into wandb"
      ]
    },
    {
      "cell_type": "code",
      "execution_count": null,
      "metadata": {},
      "outputs": [],
      "source": [
        "import wandb\n",
        "\n",
        "wandb.login()"
      ]
    },
    {
      "cell_type": "markdown",
      "metadata": {
        "pycharm": {}
      },
      "source": [
        "Import modules"
      ]
    },
    {
      "cell_type": "code",
      "execution_count": null,
      "metadata": {
        "pycharm": {}
      },
      "outputs": [],
      "source": [
        "from src.dataset_split import train, val, test, test_dummy, train_dummy, val_dummy\n",
        "from src.main import hyperparamter_tuning, training_testing"
      ]
    },
    {
      "cell_type": "markdown",
      "metadata": {},
      "source": [
        "Hyperparameter Fine-Tuning"
      ]
    },
    {
      "cell_type": "code",
      "execution_count": null,
      "metadata": {
        "pycharm": {}
      },
      "outputs": [],
      "source": [
        "args ={\"data_dir\":(\"/Users/julia/Documents/UNI/Master/Montréal/AV/project/duckietown_visual_odometry/data/\",),\n",
        "    \"train_split\":(train_dummy,), \"val_split\":(val_dummy,), \"test_split\":(test_dummy,),\n",
        "    \"checkpoint_path\":('./checkpoint',), \"checkpoint\":(None,), \"bsize\":(2,), \"lr\":(0.001,),\n",
        "    \"weight_decay\":(1e-4,), \"trajectory_length\":(5,), \"dropout_p\":(0.85,),\n",
        "    \"resize\":(64,), \"K\":(100,), \"epochs\":(5,), \"patience\":(40,), \"camera-correction\":(True,)}\n",
        "\n",
        "hyperparamter_tuning(args, wandb_project=\"deepvo-finetuning-trial\", visualization=True, wandb_name=\"trial_runs\")"
      ]
    },
    {
      "cell_type": "markdown",
      "metadata": {},
      "source": [
        "Running selected Configuration with Graphs"
      ]
    },
    {
      "cell_type": "code",
      "execution_count": null,
      "metadata": {
        "pycharm": {}
      },
      "outputs": [],
      "source": [
        "args ={\"data_dir\":\"/Users/julia/Documents/UNI/Master/Montréal/AV/project/duckietown_visual_odometry/data/\",\n",
        "    \"train_split\":train_dummy, \"val_split\":val_dummy, \"test_split\":test_dummy,\n",
        "    \"checkpoint_path\":'./checkpoint', \"checkpoint\":None, \"bsize\":2, \"lr\":0.001, \n",
        "    \"weight_decay\":1e-4, \"trajectory_length\":5, \"dropout_p\":0.85,\n",
        "    \"resize\":64, \"K\":100, \"epochs\":5, \"patience\":40, \"camera-correction\":True}\n",
        "\n",
        "training_testing(args, wandb_project=\"deepvo-finetuning-trial\", visualization=True, wandb_name=\"trial_runs\")"
      ]
    }
  ],
  "metadata": {
    "interpreter": {
      "hash": "b72d1fecd0a73df2a1a18b52675273f1b6ca647bfa839be2128fda33214ab210"
    },
    "kernelspec": {
      "display_name": "Python 3.8.12 64-bit ('ssl': conda)",
      "language": "python",
      "name": "python3"
    },
    "language_info": {
      "codemirror_mode": {
        "name": "ipython",
        "version": 3
      },
      "file_extension": ".py",
      "mimetype": "text/x-python",
      "name": "python",
      "nbconvert_exporter": "python",
      "pygments_lexer": "ipython3",
      "version": "3.8.12"
    },
    "orig_nbformat": 4
  },
  "nbformat": 4,
  "nbformat_minor": 2
}
