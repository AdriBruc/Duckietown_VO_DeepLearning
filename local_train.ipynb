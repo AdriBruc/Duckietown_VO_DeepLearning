{
 "cells": [
  {
   "cell_type": "markdown",
   "metadata": {},
   "source": [
    "# DeepVO"
   ]
  },
  {
   "cell_type": "markdown",
   "metadata": {},
   "source": [
    "Training and testing script for colaborate ultra"
   ]
  },
  {
   "cell_type": "markdown",
   "metadata": {},
   "source": [
    "Check GPU and Import modules"
   ]
  },
  {
   "cell_type": "code",
   "execution_count": 1,
   "metadata": {},
   "outputs": [],
   "source": [
    "from src.dataset_split import train, val, test, test_dummy, train_dummy, val_dummy\n",
    "from src.main import hyperparamter_tuning"
   ]
  },
  {
   "cell_type": "code",
   "execution_count": 2,
   "metadata": {},
   "outputs": [
    {
     "ename": "TypeError",
     "evalue": "'NoneType' object is not iterable",
     "output_type": "error",
     "traceback": [
      "\u001b[0;31m---------------------------------------------------------------------------\u001b[0m",
      "\u001b[0;31mTypeError\u001b[0m                                 Traceback (most recent call last)",
      "\u001b[0;32m/var/folders/p_/ymdy4hc567dfjvpt9q9yrlg80000gn/T/ipykernel_42634/2383469519.py\u001b[0m in \u001b[0;36m<module>\u001b[0;34m\u001b[0m\n\u001b[1;32m      5\u001b[0m     \"resize\":64, \"K\":100, \"epochs\":5, \"patience\":40, \"camera-correction\":True}\n\u001b[1;32m      6\u001b[0m \u001b[0;34m\u001b[0m\u001b[0m\n\u001b[0;32m----> 7\u001b[0;31m \u001b[0mhyperparamter_tuning\u001b[0m\u001b[0;34m(\u001b[0m\u001b[0margs\u001b[0m\u001b[0;34m)\u001b[0m\u001b[0;34m\u001b[0m\u001b[0;34m\u001b[0m\u001b[0m\n\u001b[0m",
      "\u001b[0;32m~/Documents/UNI/Master/Montréal/AV/project/duckietown_visual_odometry/src/main.py\u001b[0m in \u001b[0;36mhyperparamter_tuning\u001b[0;34m(args)\u001b[0m\n\u001b[1;32m     49\u001b[0m \u001b[0;32mdef\u001b[0m \u001b[0mhyperparamter_tuning\u001b[0m\u001b[0;34m(\u001b[0m\u001b[0margs\u001b[0m\u001b[0;34m)\u001b[0m\u001b[0;34m:\u001b[0m\u001b[0;34m\u001b[0m\u001b[0;34m\u001b[0m\u001b[0m\n\u001b[1;32m     50\u001b[0m     hyper_parameter_combinations = list(\n\u001b[0;32m---> 51\u001b[0;31m         cartProduct(*[args[param] for param in args.keys()]))\n\u001b[0m\u001b[1;32m     52\u001b[0m     hyper_parameter_set_list = [dict(zip(args.keys(), hyper_parameter_combinations[i])) for i in\n\u001b[1;32m     53\u001b[0m                                 range(len(hyper_parameter_combinations))]\n",
      "\u001b[0;31mTypeError\u001b[0m: 'NoneType' object is not iterable"
     ]
    }
   ],
   "source": [
    "args ={\"data_dir\":(\"/Users/julia/Documents/UNI/Master/Montréal/AV/project/duckietown_visual_odometry/data/\",),\n",
    "    \"train_split\":(train_dummy,), \"val_split\":(val_dummy,), \"test_split\":(test_dummy,),\n",
    "    \"checkpoint_path\":('./checkpoint',), \"checkpoint\":(None,), \"bsize\":2, \"lr\":(0.001,),\n",
    "    \"weight_decay\":(1e-4,), \"trajectory_length\":(5,), \"dropout_p\":(0.85,),\n",
    "    \"resize\":(64,), \"K\":(100,), \"epochs\":(5,), \"patience\":(40,), \"camera-correction\":(True,)}\n",
    "\n",
    "hyperparamter_tuning(args)"
   ]
  },
  {
   "cell_type": "code",
   "execution_count": null,
   "metadata": {},
   "outputs": [],
   "source": [
    "args ={\"data_dir\":\"/Users/julia/Documents/UNI/Master/Montréal/AV/project/duckietown_visual_odometry/data/\",\n",
    "    \"train_split\":train_dummy, \"val_split\":val_dummy, \"test_split\":test_dummy,\n",
    "    \"checkpoint_path\":'./checkpoint', \"checkpoint\":None, \"bsize\":2, \"lr\":0.001, \n",
    "    \"weight_decay\":1e-4, \"trajectory_length\":5, \"dropout_p\":0.85,\n",
    "    \"resize\":64, \"K\":100, \"epochs\":5, \"patience\":40, \"camera-correction\":True}"
   ]
  }
 ],
 "metadata": {
  "interpreter": {
   "hash": "b72d1fecd0a73df2a1a18b52675273f1b6ca647bfa839be2128fda33214ab210"
  },
  "kernelspec": {
   "display_name": "Python 3.8.12 64-bit ('ssl': conda)",
   "language": "python",
   "name": "python3"
  },
  "language_info": {
   "codemirror_mode": {
    "name": "ipython",
    "version": 3
   },
   "file_extension": ".py",
   "mimetype": "text/x-python",
   "name": "python",
   "nbconvert_exporter": "python",
   "pygments_lexer": "ipython3",
   "version": "3.8.12"
  },
  "orig_nbformat": 4
 },
 "nbformat": 4,
 "nbformat_minor": 2
}
